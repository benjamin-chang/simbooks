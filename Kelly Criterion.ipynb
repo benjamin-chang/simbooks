{
 "cells": [
  {
   "cell_type": "markdown",
   "id": "e47622d9",
   "metadata": {},
   "source": [
    "# Kelly Criterion  \n",
    "\n",
    "https://www.investopedia.com/terms/k/kellycriterion.asp"
   ]
  },
  {
   "cell_type": "code",
   "execution_count": 1,
   "id": "f7d87262",
   "metadata": {},
   "outputs": [
    {
     "name": "stdout",
     "output_type": "stream",
     "text": [
      "Populating the interactive namespace from numpy and matplotlib\n"
     ]
    }
   ],
   "source": [
    "%pylab inline"
   ]
  },
  {
   "cell_type": "code",
   "execution_count": 2,
   "id": "d9a4fc64",
   "metadata": {},
   "outputs": [],
   "source": [
    "import seaborn as sns\n",
    "import pandas as pd\n",
    "import functools\n",
    "import matplotlib.ticker as ticker"
   ]
  },
  {
   "cell_type": "code",
   "execution_count": 3,
   "id": "4d652b36",
   "metadata": {},
   "outputs": [],
   "source": [
    "def game(wager, odds=0.5, payout=1.0):\n",
    "    if rand() < odds:\n",
    "        return payout * wager\n",
    "    else:\n",
    "        return -wager"
   ]
  },
  {
   "cell_type": "code",
   "execution_count": 4,
   "id": "42c7af5a",
   "metadata": {},
   "outputs": [],
   "source": [
    "def play(wager, odds=0.5, payout=1.0, bankroll=100, count=10, game=game, wager_rate=None):\n",
    "    for j in range(count):\n",
    "        if bankroll <= 0:\n",
    "            return 0\n",
    "        if wager_rate is not None:\n",
    "            wager = wager_rate * bankroll\n",
    "        bankroll += game(wager=min(bankroll, wager), payout=payout, odds=odds)\n",
    "    return bankroll"
   ]
  },
  {
   "cell_type": "code",
   "execution_count": 5,
   "id": "f8ffc0c3",
   "metadata": {},
   "outputs": [],
   "source": [
    "def sim(wager, odds=0.5, payout=1.0, iterations=1000, bankroll=100, count=10, game=game, wager_rate=None):\n",
    "    return array([(wager_rate, play(wager, payout=payout, odds=odds, bankroll=bankroll, count=count, game=game, wager_rate=wager_rate)) for j in range(iterations)])"
   ]
  },
  {
   "cell_type": "code",
   "execution_count": null,
   "id": "114ef493",
   "metadata": {},
   "outputs": [],
   "source": [
    "wagers = linspace(0,1,101)\n",
    "player = lambda a, w: pd.concat([a, pd.DataFrame(data = sim(wager=None, wager_rate=w, odds=.50, payout=5, iterations=1000, count=10), columns=['wager_rate', 'payout'])], ignore_index=True)\n",
    "df = functools.reduce(player, wagers, pd.DataFrame(columns=['wager_rate', 'payout']))"
   ]
  },
  {
   "cell_type": "code",
   "execution_count": null,
   "id": "14062efc",
   "metadata": {},
   "outputs": [],
   "source": [
    "plt.figure(figsize=(16,9))\n",
    "g = sns.boxplot(x='wager_rate', y='payout', data=df)\n",
    "g.set_yscale(\"log\")\n",
    "g.xaxis.set_major_locator(ticker.MultipleLocator(10))"
   ]
  },
  {
   "cell_type": "code",
   "execution_count": null,
   "id": "eaff2c39",
   "metadata": {},
   "outputs": [],
   "source": [
    "sns.lineplot(x='wager_rate', y='payout', data=df)"
   ]
  },
  {
   "cell_type": "code",
   "execution_count": null,
   "id": "7fadff81",
   "metadata": {},
   "outputs": [],
   "source": [
    "sns.lineplot(data=df.groupby('wager_rate').median())"
   ]
  },
  {
   "cell_type": "code",
   "execution_count": null,
   "id": "ac23e997",
   "metadata": {},
   "outputs": [],
   "source": []
  }
 ],
 "metadata": {
  "kernelspec": {
   "display_name": "Python 3",
   "language": "python",
   "name": "python3"
  },
  "language_info": {
   "codemirror_mode": {
    "name": "ipython",
    "version": 3
   },
   "file_extension": ".py",
   "mimetype": "text/x-python",
   "name": "python",
   "nbconvert_exporter": "python",
   "pygments_lexer": "ipython3",
   "version": "3.7.11"
  }
 },
 "nbformat": 4,
 "nbformat_minor": 5
}
